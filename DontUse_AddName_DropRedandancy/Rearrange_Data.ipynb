{
 "cells": [
  {
   "cell_type": "code",
   "execution_count": 1,
   "id": "58802c45",
   "metadata": {},
   "outputs": [],
   "source": [
    "import pandas as pd\n",
    "import os\n",
    "import glob"
   ]
  },
  {
   "cell_type": "markdown",
   "id": "df17825e",
   "metadata": {},
   "source": [
    "# Duplicate row "
   ]
  },
  {
   "cell_type": "code",
   "execution_count": 15,
   "id": "a4e1cafb",
   "metadata": {},
   "outputs": [],
   "source": [
    "path = os.getcwd()\n",
    "for _ in glob.glob(path+'/New*Inhibit*'):\n",
    "    name = _.split('/')[-1]\n",
    "    pd.read_csv(_).fillna(method='ffill').iloc[:,1:].to_csv(path+'/../NewData/'+name)"
   ]
  },
  {
   "cell_type": "code",
   "execution_count": 30,
   "id": "faa0e602",
   "metadata": {},
   "outputs": [],
   "source": [
    "df = pd.DataFrame()\n",
    "name = 'Final_Entry.csv'\n",
    "for _ in glob.glob(path+'/../NewData/'+'New*Entry*_1500*labell*'):\n",
    "    df = df.append(pd.read_csv(_))\n",
    "    \n",
    "df.reset_index(drop=True).iloc[:,1:].to_csv(path+'/../NewData/'+name)"
   ]
  },
  {
   "cell_type": "markdown",
   "id": "deb7af90",
   "metadata": {},
   "source": [
    "# Rearrange Data"
   ]
  },
  {
   "cell_type": "code",
   "execution_count": 57,
   "id": "ecb786d7",
   "metadata": {},
   "outputs": [
    {
     "data": {
      "text/plain": [
       "Index(['Gene', 'Total_cells', 'Inf_cells', 'Uninf_cells', 'Bac/Inf', 'Nuc/Inf',\n",
       "       'Cytomem/Inf', 'Infected/Total_cells', 'Nuc/IntraBac',\n",
       "       'Inf/Uninf_cells', 'Sample ID', 'Original Plate', '384-well Plate',\n",
       "       'RefSeq Accession Number', 'Gene Symbol', 'Full Gene Name',\n",
       "       '384-well Location', 'Plate', 'Batch', 'New_name', 'Unnamed: 20',\n",
       "       'Scramble_Total_cells', 'Scramble_Bac/Inf_Local', 'Unnamed: 23',\n",
       "       'Unnamed: 24', 'Scramble_Bac/Inf_Model', 'ssmd_Entry', 'Level',\n",
       "       'Entry_Level_1500', 'Phenotype', 'Process', 'Scramble_Total_cells_mean',\n",
       "       'Scramble_Inf_cells_mean', 'Scramble_UnInf_cells_mean',\n",
       "       'Scramble_Bac/Inf_mean', 'Scramble_Nuc/Inf_mean',\n",
       "       'Scramble_Cytomem/Inf_mean', 'Scramble_Infected/Total_cells_mean',\n",
       "       'Scramble_Nuc/IntraBac_mean', 'Scramble_Inf/Uninf_cells_mean'],\n",
       "      dtype='object')"
      ]
     },
     "execution_count": 57,
     "metadata": {},
     "output_type": "execute_result"
    }
   ],
   "source": [
    "col = pd.read_csv(glob.glob(path+'/../NewData/Updat*Entry*')[0]).columns\n",
    "col\n"
   ]
  },
  {
   "cell_type": "code",
   "execution_count": 56,
   "id": "26d91a7b",
   "metadata": {},
   "outputs": [],
   "source": [
    "temp = pd.read_csv(glob.glob(path+'/../NewData/Final_Trans*')[0], index_col=0)\n",
    "col = ['Gene', 'Total_cells', 'Inf_cells', 'Uninf_cells',\n",
    "       'Bac/Inf', 'Nuc/Inf', 'Cytomem/Inf', 'Infected/Total_cells',\n",
    "       'Nuc/IntraBac', 'Inf/Uninf_cells', 'Sample ID', 'Original Plate',\n",
    "       '384-well Plate', 'RefSeq Accession Number', 'Gene Symbol',\n",
    "       'Full Gene Name', '384-well Location', 'Plate', 'Batch', 'New_name',\n",
    "       'Scramble_Nuc/Inf_Local','Scramble_Nuc/Inf_Model', 'ssmd_Trans',\n",
    "       'Level', 'LevelShort', 'Translocation(Outlier)_Level', 'Phenotype',\n",
    "       'Process', 'Scramble_Total_cells_mean', 'Scramble_Inf_cells_mean',\n",
    "       'Scramble_UnInf_cells_mean', 'Scramble_Bac/Inf_mean',\n",
    "       'Scramble_Nuc/Inf_mean', 'Scramble_Cytomem/Inf_mean',\n",
    "       'Scramble_Infected/Total_cells_mean', 'Scramble_Nuc/IntraBac_mean',\n",
    "       'Scramble_Inf/Uninf_cells_mean']\n",
    "temp.loc[:,col].to_csv(path+'/../NewData/Final_Trans_ArrCol.csv')"
   ]
  },
  {
   "cell_type": "code",
   "execution_count": 60,
   "id": "d9ff2680",
   "metadata": {},
   "outputs": [],
   "source": [
    "temp = pd.read_csv(glob.glob(path+'/../NewData/Final_Entry*')[0], index_col=0)\n",
    "col = ['Gene', 'Total_cells', 'Inf_cells', 'Uninf_cells', 'Bac/Inf', 'Nuc/Inf',\n",
    "       'Cytomem/Inf', 'Infected/Total_cells', 'Nuc/IntraBac',\n",
    "       'Inf/Uninf_cells', 'Sample ID', 'Original Plate', '384-well Plate',\n",
    "       'RefSeq Accession Number', 'Gene Symbol', 'Full Gene Name',\n",
    "       '384-well Location', 'Plate', 'Batch', 'New_name', 'Scramble_Bac/Inf_Local', \n",
    "       'Scramble_Bac/Inf_Model', 'ssmd_Entry', 'Level','LevelShort',\n",
    "       'Entry_Level', 'Phenotype', 'Process', 'Scramble_Total_cells_mean',\n",
    "       'Scramble_Inf_cells_mean', 'Scramble_UnInf_cells_mean',\n",
    "       'Scramble_Bac/Inf_mean', 'Scramble_Nuc/Inf_mean',\n",
    "       'Scramble_Cytomem/Inf_mean', 'Scramble_Infected/Total_cells_mean',\n",
    "       'Scramble_Nuc/IntraBac_mean', 'Scramble_Inf/Uninf_cells_mean']\n",
    "temp.loc[:,col].to_csv(path+'/../NewData/Final_Entry_ArrCol.csv')"
   ]
  },
  {
   "cell_type": "code",
   "execution_count": null,
   "id": "09024e64",
   "metadata": {},
   "outputs": [],
   "source": []
  }
 ],
 "metadata": {
  "kernelspec": {
   "display_name": "Python 3 (ipykernel)",
   "language": "python",
   "name": "python3"
  },
  "language_info": {
   "codemirror_mode": {
    "name": "ipython",
    "version": 3
   },
   "file_extension": ".py",
   "mimetype": "text/x-python",
   "name": "python",
   "nbconvert_exporter": "python",
   "pygments_lexer": "ipython3",
   "version": "3.8.12"
  }
 },
 "nbformat": 4,
 "nbformat_minor": 5
}
