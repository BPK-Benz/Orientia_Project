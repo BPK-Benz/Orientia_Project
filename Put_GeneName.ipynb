{
 "cells": [
  {
   "cell_type": "code",
   "execution_count": 1,
   "id": "c58d0b45-58c9-47d6-a77a-87e4c256fd7b",
   "metadata": {},
   "outputs": [],
   "source": [
    "import pandas as pd\n",
    "import numpy as np\n",
    "import os\n",
    "import glob\n",
    "import warnings\n",
    "warnings.filterwarnings(\"ignore\")"
   ]
  },
  {
   "cell_type": "code",
   "execution_count": 5,
   "id": "5acd2d11-54ab-4cd5-a725-ebce3e4e5368",
   "metadata": {},
   "outputs": [
    {
     "name": "stdout",
     "output_type": "stream",
     "text": [
      "Adaptive_analysis_result_Trans_ssmd_name_May_2021_labelled_\n",
      "18350\n",
      "18350\n",
      "Adaptive_analysis_result_Entry_ssmd_name_May_2021_labelled_\n",
      "18350\n",
      "18350\n"
     ]
    }
   ],
   "source": [
    "# put_name\n",
    "path = os.getcwd()+'/../'\n",
    "full_df = pd.read_csv(path+'Raw_Data/Full_gene_name.csv', index_col=0)\n",
    "# path = 'C:/Users/benz/phdProject/dataPreparing/ipynb/After_prpathosal/'\n",
    "for input_name in glob.glob(path+'Adaptive_RegressionModel/'+'*ssmd*.csv'):\n",
    "    output_name = input_name.split('.csv')[0].split('Adaptive_RegressionModel/')[1]+'_labelled_'\n",
    "    print(output_name)\n",
    "\n",
    "\n",
    "###############################################################################################\n",
    "    hit = pd.read_csv(input_name)\n",
    "    hit=hit.rename(columns = {'Gene_Symbol':'Gene'})\n",
    "    print(hit.shape[0])\n",
    "    d = hit[hit['Gene'].str.startswith(('Scramble_siRNA'))].index.tolist()\n",
    "    hit = hit.drop(index=d)\n",
    "    print(hit.shape[0])\n",
    "    hg_list = pd.DataFrame()\n",
    "    count = 0\n",
    "\n",
    "    i = 1\n",
    "    for hg in hit['Gene'].tolist():\n",
    "        h = hit[hit['Gene'] == hg].reset_index(drop=True)\n",
    "        if hg in full_df.set_index('Gene Symbol').index.tolist():\n",
    "            h_gene = full_df[full_df['Gene Symbol'] == hg].reset_index(drop=True)\n",
    "            h0 = pd.concat([h,h_gene],axis=1)\n",
    "            if h0.shape[0] > 1:\n",
    "                count = count + 1\n",
    "        else:\n",
    "            if hg in full_df.set_index('Sample ID').index.tolist():\n",
    "                h_gene = full_df[full_df['Sample ID'] == hg].reset_index(drop=True)\n",
    "                h0 = pd.concat([h,h_gene],axis=1)\n",
    "                if h0.shape[0] >1:\n",
    "                    count = count + 1\n",
    "            else:\n",
    "                h_gene = full_df[full_df['New_name'] == hg].reset_index(drop=True)\n",
    "                h0 = pd.concat([h,h_gene],axis=1)\n",
    "        if i == 1:\n",
    "            hg_list = h0\n",
    "            i = 2\n",
    "        else:\n",
    "            hg_list = hg_list.append(h0)\n",
    "\n",
    "    hg_list = hg_list.reset_index(drop=True)\n",
    "    hg_list = hg_list.drop(columns=['96-well Location','Gene ID'])\n",
    "    hg_list.to_csv(path+'Adaptive_RegressionModel/'+output_name+str(hit.shape[0])+'.csv')"
   ]
  },
  {
   "cell_type": "code",
   "execution_count": null,
   "id": "c7ca2f30-8fc0-411e-ba19-e481cae9d7fd",
   "metadata": {},
   "outputs": [],
   "source": []
  }
 ],
 "metadata": {
  "kernelspec": {
   "display_name": "Python 3",
   "language": "python",
   "name": "python3"
  },
  "language_info": {
   "codemirror_mode": {
    "name": "ipython",
    "version": 3
   },
   "file_extension": ".py",
   "mimetype": "text/x-python",
   "name": "python",
   "nbconvert_exporter": "python",
   "pygments_lexer": "ipython3",
   "version": "3.8.10"
  }
 },
 "nbformat": 4,
 "nbformat_minor": 5
}
